{
  "metadata": {
    "language_info": {
      "codemirror_mode": {
        "name": "python",
        "version": 3
      },
      "file_extension": ".py",
      "mimetype": "text/x-python",
      "name": "python",
      "nbconvert_exporter": "python",
      "pygments_lexer": "ipython3",
      "version": "3.8"
    },
    "kernelspec": {
      "name": "python",
      "display_name": "Python (Pyodide)",
      "language": "python"
    }
  },
  "nbformat_minor": 4,
  "nbformat": 4,
  "cells": [
    {
      "cell_type": "code",
      "source": "import matplotlib.pyplot as plt\nimport pandas as pd",
      "metadata": {
        "trusted": true
      },
      "execution_count": 1,
      "outputs": []
    },
    {
      "cell_type": "code",
      "source": "import seaborn as sns",
      "metadata": {
        "trusted": true
      },
      "execution_count": 1,
      "outputs": [
        {
          "ename": "<class 'ModuleNotFoundError'>",
          "evalue": "No module named 'seaborn'",
          "traceback": [
            "\u001b[0;31m---------------------------------------------------------------------------\u001b[0m",
            "\u001b[0;31mModuleNotFoundError\u001b[0m                       Traceback (most recent call last)",
            "Cell \u001b[0;32mIn [1], line 1\u001b[0m\n\u001b[0;32m----> 1\u001b[0m \u001b[38;5;28;01mimport\u001b[39;00m \u001b[38;5;21;01mseaborn\u001b[39;00m \u001b[38;5;28;01mas\u001b[39;00m \u001b[38;5;21;01msns\u001b[39;00m\n",
            "\u001b[0;31mModuleNotFoundError\u001b[0m: No module named 'seaborn'"
          ],
          "output_type": "error"
        }
      ]
    },
    {
      "cell_type": "code",
      "source": "import piplite\nawait piplite.install(\"seaborn\")\nawait piplite.install(\"altair\")\nawait piplite.install(\"vega-datasets\")",
      "metadata": {
        "trusted": true
      },
      "execution_count": 5,
      "outputs": []
    },
    {
      "cell_type": "code",
      "source": "import seaborn as sns",
      "metadata": {
        "trusted": true
      },
      "execution_count": 6,
      "outputs": []
    },
    {
      "cell_type": "code",
      "source": "import altair as alt\nfrom vega_datasets import data\n\n# Since these data are each more than 5,000 rows we'll import from the URLs\nairports = data.airports.url\nflights_airport = data.flights_airport.url\n\nstates = alt.topo_feature(data.us_10m.url, feature=\"states\")\n\n# Create mouseover selection\nselect_city = alt.selection_single(\n    on=\"mouseover\", nearest=True, fields=[\"origin\"], empty=\"none\"\n)\n\n# Define which attributes to lookup from airports.csv\nlookup_data = alt.LookupData(\n    airports, key=\"iata\", fields=[\"state\", \"latitude\", \"longitude\"]\n)\n\nbackground = alt.Chart(states).mark_geoshape(\n    fill=\"lightgray\",\n    stroke=\"white\"\n).properties(\n    width=750,\n    height=500\n).project(\"albersUsa\")\n\nconnections = alt.Chart(flights_airport).mark_rule(opacity=0.35).encode(\n    latitude=\"latitude:Q\",\n    longitude=\"longitude:Q\",\n    latitude2=\"lat2:Q\",\n    longitude2=\"lon2:Q\"\n).transform_lookup(\n    lookup=\"origin\",\n    from_=lookup_data\n).transform_lookup(\n    lookup=\"destination\",\n    from_=lookup_data,\n    as_=[\"state\", \"lat2\", \"lon2\"]\n).transform_filter(\n    select_city\n)\n\npoints = alt.Chart(flights_airport).mark_circle().encode(\n    latitude=\"latitude:Q\",\n    longitude=\"longitude:Q\",\n    size=alt.Size(\"routes:Q\", scale=alt.Scale(range=[0, 1000]), legend=None),\n    order=alt.Order(\"routes:Q\", sort=\"descending\"),\n    tooltip=[\"origin:N\", \"routes:Q\"]\n).transform_aggregate(\n    routes=\"count()\",\n    groupby=[\"origin\"]\n).transform_lookup(\n    lookup=\"origin\",\n    from_=lookup_data\n).transform_filter(\n    (alt.datum.state != \"PR\") & (alt.datum.state != \"VI\")\n).add_selection(\n    select_city\n)\n\n(background + connections + points).configure_view(stroke=None)",
      "metadata": {
        "trusted": true
      },
      "execution_count": 7,
      "outputs": [
        {
          "execution_count": 7,
          "output_type": "execute_result",
          "data": {
            "text/html": "\n<div id=\"altair-viz-4c15531798b449aea799b2603a3b2cee\"></div>\n<script type=\"text/javascript\">\n  var VEGA_DEBUG = (typeof VEGA_DEBUG == \"undefined\") ? {} : VEGA_DEBUG;\n  (function(spec, embedOpt){\n    let outputDiv = document.currentScript.previousElementSibling;\n    if (outputDiv.id !== \"altair-viz-4c15531798b449aea799b2603a3b2cee\") {\n      outputDiv = document.getElementById(\"altair-viz-4c15531798b449aea799b2603a3b2cee\");\n    }\n    const paths = {\n      \"vega\": \"https://cdn.jsdelivr.net/npm//vega@5?noext\",\n      \"vega-lib\": \"https://cdn.jsdelivr.net/npm//vega-lib?noext\",\n      \"vega-lite\": \"https://cdn.jsdelivr.net/npm//vega-lite@4.17.0?noext\",\n      \"vega-embed\": \"https://cdn.jsdelivr.net/npm//vega-embed@6?noext\",\n    };\n\n    function maybeLoadScript(lib, version) {\n      var key = `${lib.replace(\"-\", \"\")}_version`;\n      return (VEGA_DEBUG[key] == version) ?\n        Promise.resolve(paths[lib]) :\n        new Promise(function(resolve, reject) {\n          var s = document.createElement('script');\n          document.getElementsByTagName(\"head\")[0].appendChild(s);\n          s.async = true;\n          s.onload = () => {\n            VEGA_DEBUG[key] = version;\n            return resolve(paths[lib]);\n          };\n          s.onerror = () => reject(`Error loading script: ${paths[lib]}`);\n          s.src = paths[lib];\n        });\n    }\n\n    function showError(err) {\n      outputDiv.innerHTML = `<div class=\"error\" style=\"color:red;\">${err}</div>`;\n      throw err;\n    }\n\n    function displayChart(vegaEmbed) {\n      vegaEmbed(outputDiv, spec, embedOpt)\n        .catch(err => showError(`Javascript Error: ${err.message}<br>This usually means there's a typo in your chart specification. See the javascript console for the full traceback.`));\n    }\n\n    if(typeof define === \"function\" && define.amd) {\n      requirejs.config({paths});\n      require([\"vega-embed\"], displayChart, err => showError(`Error loading script: ${err.message}`));\n    } else {\n      maybeLoadScript(\"vega\", \"5\")\n        .then(() => maybeLoadScript(\"vega-lite\", \"4.17.0\"))\n        .then(() => maybeLoadScript(\"vega-embed\", \"6\"))\n        .catch(showError)\n        .then(() => displayChart(vegaEmbed));\n    }\n  })({\"config\": {\"view\": {\"continuousWidth\": 400, \"continuousHeight\": 300, \"stroke\": null}}, \"layer\": [{\"data\": {\"url\": \"https://cdn.jsdelivr.net/npm/vega-datasets@v1.29.0/data/us-10m.json\", \"format\": {\"feature\": \"states\", \"type\": \"topojson\"}}, \"mark\": {\"type\": \"geoshape\", \"fill\": \"lightgray\", \"stroke\": \"white\"}, \"height\": 500, \"projection\": {\"type\": \"albersUsa\"}, \"width\": 750}, {\"data\": {\"url\": \"https://cdn.jsdelivr.net/npm/vega-datasets@v1.29.0/data/flights-airport.csv\"}, \"mark\": {\"type\": \"rule\", \"opacity\": 0.35}, \"encoding\": {\"latitude\": {\"field\": \"latitude\", \"type\": \"quantitative\"}, \"latitude2\": {\"field\": \"lat2\"}, \"longitude\": {\"field\": \"longitude\", \"type\": \"quantitative\"}, \"longitude2\": {\"field\": \"lon2\"}}, \"transform\": [{\"lookup\": \"origin\", \"from\": {\"data\": {\"url\": \"https://cdn.jsdelivr.net/npm/vega-datasets@v1.29.0/data/airports.csv\"}, \"key\": \"iata\", \"fields\": [\"state\", \"latitude\", \"longitude\"]}}, {\"lookup\": \"destination\", \"as\": [\"state\", \"lat2\", \"lon2\"], \"from\": {\"data\": {\"url\": \"https://cdn.jsdelivr.net/npm/vega-datasets@v1.29.0/data/airports.csv\"}, \"key\": \"iata\", \"fields\": [\"state\", \"latitude\", \"longitude\"]}}, {\"filter\": {\"selection\": \"selector001\"}}]}, {\"data\": {\"url\": \"https://cdn.jsdelivr.net/npm/vega-datasets@v1.29.0/data/flights-airport.csv\"}, \"mark\": \"circle\", \"encoding\": {\"latitude\": {\"field\": \"latitude\", \"type\": \"quantitative\"}, \"longitude\": {\"field\": \"longitude\", \"type\": \"quantitative\"}, \"order\": {\"field\": \"routes\", \"sort\": \"descending\", \"type\": \"quantitative\"}, \"size\": {\"field\": \"routes\", \"legend\": null, \"scale\": {\"range\": [0, 1000]}, \"type\": \"quantitative\"}, \"tooltip\": [{\"field\": \"origin\", \"type\": \"nominal\"}, {\"field\": \"routes\", \"type\": \"quantitative\"}]}, \"selection\": {\"selector001\": {\"type\": \"single\", \"on\": \"mouseover\", \"nearest\": true, \"fields\": [\"origin\"], \"empty\": \"none\"}}, \"transform\": [{\"aggregate\": [{\"op\": \"count\", \"as\": \"routes\"}], \"groupby\": [\"origin\"]}, {\"lookup\": \"origin\", \"from\": {\"data\": {\"url\": \"https://cdn.jsdelivr.net/npm/vega-datasets@v1.29.0/data/airports.csv\"}, \"key\": \"iata\", \"fields\": [\"state\", \"latitude\", \"longitude\"]}}, {\"filter\": \"((datum.state !== 'PR') && (datum.state !== 'VI'))\"}]}], \"$schema\": \"https://vega.github.io/schema/vega-lite/v4.17.0.json\"}, {\"mode\": \"vega-lite\"});\n</script>",
            "text/plain": "alt.LayerChart(...)"
          },
          "metadata": {}
        }
      ]
    }
  ]
}